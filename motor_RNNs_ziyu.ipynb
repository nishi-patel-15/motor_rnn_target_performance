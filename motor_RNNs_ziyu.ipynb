{
 "cells": [
  {
   "cell_type": "markdown",
   "metadata": {
    "execution": {},
    "id": "knRYCyThFrKY"
   },
   "source": [
    "# Motor RNNs\n",
    "\n",
    "contact: steeve.laquitaine@epfl.ch\n",
    "\n",
    "Heavily inspired from [Feulner & Clopath, 2021](https://journals.plos.org/ploscompbiol/article?id=10.1371/journal.pcbi.1008621)"
   ]
  },
  {
   "cell_type": "markdown",
   "metadata": {
    "execution": {},
    "id": "xYj7fJMjFrKr"
   },
   "source": [
    "## Setup"
   ]
  },
  {
   "cell_type": "code",
   "execution_count": 1,
   "metadata": {
    "execution": {},
    "executionInfo": {
     "elapsed": 2137,
     "status": "ok",
     "timestamp": 1752541079945,
     "user": {
      "displayName": "Ziyu Wang",
      "userId": "06392504440505027431"
     },
     "user_tz": 240
    },
    "id": "CYc0fsp1FrKy"
   },
   "outputs": [],
   "source": [
    "# import python packages\n",
    "import os\n",
    "import numpy as np\n",
    "import sklearn.linear_model as lm\n",
    "import matplotlib.pyplot as plt\n",
    "from IPython import display"
   ]
  },
  {
   "cell_type": "markdown",
   "metadata": {},
   "source": [
    "### For google drive"
   ]
  },
  {
   "cell_type": "code",
   "execution_count": 4,
   "metadata": {
    "colab": {
     "base_uri": "https://localhost:8080/"
    },
    "executionInfo": {
     "elapsed": 19086,
     "status": "ok",
     "timestamp": 1752541099770,
     "user": {
      "displayName": "Ziyu Wang",
      "userId": "06392504440505027431"
     },
     "user_tz": 240
    },
    "id": "CkxegZdG2Ei9",
    "outputId": "3ab43b6b-1a0f-44b2-e9d6-0d24ca1aad0d"
   },
   "outputs": [
    {
     "name": "stdout",
     "output_type": "stream",
     "text": [
      "Mounted at /content/drive\n"
     ]
    }
   ],
   "source": [
    "from google.colab import drive\n",
    "drive.mount('/content/drive')"
   ]
  },
  {
   "cell_type": "code",
   "execution_count": 5,
   "metadata": {
    "execution": {},
    "executionInfo": {
     "elapsed": 1348,
     "status": "ok",
     "timestamp": 1752541101131,
     "user": {
      "displayName": "Ziyu Wang",
      "userId": "06392504440505027431"
     },
     "user_tz": 240
    },
    "id": "Y4LnrVKyFrK6"
   },
   "outputs": [],
   "source": [
    "# @title Set the project path\n",
    "proj_path = \"/content/drive/MyDrive/2025 NMA computational neuroscience/Motor RNN project\" # need to modify the dir\n",
    "if not os.path.exists(proj_path):\n",
    "  os.makedirs(proj_path)\n",
    "\n",
    "# set the directories where the results will be saved\n",
    "savedir = os.path.join(proj_path, 'data/')\n",
    "\n",
    "if not os.path.exists(savedir):\n",
    "  os.makedirs(savedir)"
   ]
  },
  {
   "cell_type": "markdown",
   "metadata": {},
   "source": [
    "### For IDE"
   ]
  },
  {
   "cell_type": "code",
   "execution_count": 62,
   "metadata": {},
   "outputs": [],
   "source": [
    "# @title Set the project path\n",
    "proj_path = os.getcwd() # need to modify the dir\n",
    "if not os.path.exists(proj_path):\n",
    "  os.makedirs(proj_path)\n",
    "\n",
    "# set the directories where the results will be saved\n",
    "savedir = os.path.join(proj_path, 'data/')\n",
    "\n",
    "if not os.path.exists(savedir):\n",
    "  os.makedirs(savedir)"
   ]
  },
  {
   "cell_type": "markdown",
   "metadata": {},
   "source": [
    "### Function import"
   ]
  },
  {
   "cell_type": "code",
   "execution_count": 60,
   "metadata": {
    "executionInfo": {
     "elapsed": 2900,
     "status": "ok",
     "timestamp": 1752541104048,
     "user": {
      "displayName": "Ziyu Wang",
      "userId": "06392504440505027431"
     },
     "user_tz": 240
    },
    "id": "MhZ3WSok29_G"
   },
   "outputs": [],
   "source": [
    "import sys\n",
    "sys.path.append(proj_path)\n",
    "import utils\n",
    "from utils.network import RNN, save_RNN, save_RNN_sinewave\n",
    "from utils.bciDecoder import train_reaching_decoder, create_reaching_task_decoder, train_force_exertion_decoder, \\\n",
    "    get_feedback_weights, get_cost, get_manifold, save_reaching_manifold, transform_reaching, simulate_reaching\n",
    "from utils.task import create_reaching_task_stimuli, create_reaching_task_targets, plot_reaching_task_stimuli, \\\n",
    "    plot_reaching_task_targets"
   ]
  },
  {
   "cell_type": "code",
   "execution_count": 59,
   "metadata": {
    "colab": {
     "base_uri": "https://localhost:8080/"
    },
    "executionInfo": {
     "elapsed": 105,
     "status": "ok",
     "timestamp": 1752540954938,
     "user": {
      "displayName": "Ziyu Wang",
      "userId": "06392504440505027431"
     },
     "user_tz": 240
    },
    "id": "DBE18t5pj0If",
    "outputId": "708908ed-bdf2-4a5f-fdab-7e34f3f5f3ed"
   },
   "outputs": [
    {
     "data": {
      "text/plain": [
       "<module 'utils.network' from 'g:\\\\My Drive\\\\2025 NMA computational neuroscience\\\\Motor RNN project\\\\utils\\\\network.py'>"
      ]
     },
     "execution_count": 59,
     "metadata": {},
     "output_type": "execute_result"
    }
   ],
   "source": [
    "import importlib\n",
    "importlib.reload(utils)\n",
    "import utils.bciDecoder\n",
    "importlib.reload(utils.bciDecoder)\n",
    "import utils.task\n",
    "importlib.reload(utils.task)\n",
    "import utils.network\n",
    "importlib.reload(utils.network)"
   ]
  },
  {
   "cell_type": "markdown",
   "metadata": {},
   "source": [
    "### Data loading"
   ]
  },
  {
   "cell_type": "code",
   "execution_count": null,
   "metadata": {
    "executionInfo": {
     "elapsed": 12913,
     "status": "ok",
     "timestamp": 1752541130647,
     "user": {
      "displayName": "Ziyu Wang",
      "userId": "06392504440505027431"
     },
     "user_tz": 240
    },
    "id": "F0HpJ6SygGg3"
   },
   "outputs": [],
   "source": [
    "# @title Load the data from .npy file\n",
    "results_name = 'reaching_xperiment_2'\n",
    "relearning_results_name = 'reaching_relearning_results'\n",
    "results_path = os.path.join(savedir, results_name + '.npy')\n",
    "relearning_results_path = os.path.join(savedir, relearning_results_name + '.npy')\n",
    "data = np.load(results_path, allow_pickle=True).item()\n",
    "relearning_data = np.load(relearning_results_path, allow_pickle=True).item()"
   ]
  },
  {
   "cell_type": "code",
   "execution_count": 58,
   "metadata": {
    "colab": {
     "base_uri": "https://localhost:8080/"
    },
    "executionInfo": {
     "elapsed": 12,
     "status": "ok",
     "timestamp": 1752541144151,
     "user": {
      "displayName": "Ziyu Wang",
      "userId": "06392504440505027431"
     },
     "user_tz": 240
    },
    "id": "XtWFy1azl2WT",
    "outputId": "2070f823-df5c-4b8f-bd48-9670bc8f3a8e"
   },
   "outputs": [
    {
     "data": {
      "text/plain": [
       "dict_keys(['manifold', 'perturbations'])"
      ]
     },
     "execution_count": 58,
     "metadata": {},
     "output_type": "execute_result"
    }
   ],
   "source": [
    "relearning_data.keys()"
   ]
  },
  {
   "cell_type": "markdown",
   "metadata": {
    "execution": {},
    "id": "QE8q4Hk5FrLm"
   },
   "source": [
    "## Create task 1: \"reaching\""
   ]
  },
  {
   "cell_type": "code",
   "execution_count": null,
   "metadata": {
    "execution": {},
    "executionInfo": {
     "elapsed": 40,
     "status": "ok",
     "timestamp": 1752541205803,
     "user": {
      "displayName": "Ziyu Wang",
      "userId": "06392504440505027431"
     },
     "user_tz": 240
    },
    "id": "BCa0MGBIFrLn"
   },
   "outputs": [],
   "source": [
    "# @title set parameters\n",
    "# TODO: create dictionary\n",
    "\n",
    "seed_id = 2                 # random seed for this simulation\n",
    "np.random.seed(seed_id)\n",
    "\n",
    "results_name = 'reaching_exp_' + str(seed_id)\n",
    "relearning_results_name = 'reaching_relearning_' + str(seed_id)\n",
    "\n",
    "# time parameters\n",
    "dt = 0.01                   # time discretization (secs, see paper table 1)\n",
    "T = 2                       # trial duration (secs, see paper table 1)\n",
    "time = np.arange(0, T, dt)\n",
    "tsteps = len(time)          # number of time steps within a trial\n",
    "pulse_length = int(0.2/dt)  # pulse length in number of timesteps\n",
    "\n",
    "# network parameters\n",
    "N = 800                     # RNN number of units\n",
    "g = 1.5                     # RNN recurrent connection strengths (a.u)\n",
    "p = 0.1                     # RNN connection probability\n",
    "tau = 0.1                   # unit time constant tau (secs)\n",
    "N_OUTPUT_UNITS = 2          # number of output units (2 for x and y)\n",
    "\n",
    "# task parameters\n",
    "targets = 6                 # number of reaching targets\n",
    "stimulus_type = 'constant'  # constant, linear, normal\n",
    "target_max = 0.2            # 0.2 or 0.01\n",
    "n_learning1_trials = 80     # initial network learning\n",
    "delta = 20.\n",
    "relearning_trials = 80      # relearning\n",
    "deltarec = 20.\n",
    "\n",
    "# analyses parameters\n",
    "manifold_trials = 50        # manifold calculation\n",
    "reduced_dim = 10"
   ]
  },
  {
   "cell_type": "code",
   "execution_count": 12,
   "metadata": {
    "execution": {},
    "executionInfo": {
     "elapsed": 3,
     "status": "ok",
     "timestamp": 1752541207018,
     "user": {
      "displayName": "Ziyu Wang",
      "userId": "06392504440505027431"
     },
     "user_tz": 240
    },
    "id": "f9lLDvrfFrLp"
   },
   "outputs": [],
   "source": [
    "# @title Create stimuli and targets\n",
    "\n",
    "# create stimuli and plot\n",
    "stimulus = create_reaching_task_stimuli(tsteps, pulse_length, twod=False)\n",
    "# plot_reaching_task_stimuli(stimulus, targets, tsteps, T)\n",
    "\n",
    "# create target (targets x timesteps x 2D coordinates) and plot\n",
    "target = create_reaching_task_targets(\n",
    "    tsteps,\n",
    "    pulse_length,\n",
    "    n_targets=targets,\n",
    "    stype=stimulus_type,\n",
    "    target_max=target_max\n",
    "    )\n",
    "# plot_reaching_task_targets(target, tsteps, T)"
   ]
  },
  {
   "cell_type": "code",
   "execution_count": 13,
   "metadata": {
    "colab": {
     "base_uri": "https://localhost:8080/",
     "height": 975
    },
    "collapsed": true,
    "execution": {},
    "executionInfo": {
     "elapsed": 222691,
     "status": "error",
     "timestamp": 1752541431277,
     "user": {
      "displayName": "Ziyu Wang",
      "userId": "06392504440505027431"
     },
     "user_tz": 240
    },
    "id": "fc1FjjcbFrLq",
    "outputId": "76b8c2d7-0625-415d-abe5-97405380a569"
   },
   "outputs": [
    {
     "name": "stdout",
     "output_type": "stream",
     "text": [
      "Loss in Trial 1 is 0.36486\n",
      "Loss in Trial 2 is 0.53443\n",
      "Loss in Trial 3 is 0.07616\n",
      "Loss in Trial 4 is 0.32136\n",
      "Loss in Trial 5 is 0.40796\n",
      "Loss in Trial 6 is 0.52334\n",
      "Loss in Trial 7 is 0.12490\n",
      "Loss in Trial 8 is 0.16206\n",
      "Loss in Trial 9 is 0.05343\n",
      "Loss in Trial 10 is 0.30051\n",
      "Loss in Trial 11 is 0.64470\n",
      "Loss in Trial 12 is 0.10505\n",
      "Loss in Trial 13 is 0.42285\n",
      "Loss in Trial 14 is 0.18380\n",
      "Loss in Trial 15 is 0.14192\n",
      "Loss in Trial 16 is 0.12791\n",
      "Loss in Trial 17 is 0.47923\n",
      "Loss in Trial 18 is 0.11559\n",
      "Loss in Trial 19 is 0.35033\n",
      "Loss in Trial 20 is 0.08278\n",
      "Loss in Trial 21 is 0.06807\n",
      "Loss in Trial 22 is 0.06301\n",
      "Loss in Trial 23 is 0.09566\n",
      "Loss in Trial 24 is 0.12736\n",
      "Loss in Trial 25 is 0.23735\n",
      "Loss in Trial 26 is 0.23559\n",
      "Loss in Trial 27 is 0.17402\n",
      "Loss in Trial 28 is 0.08763\n",
      "Loss in Trial 29 is 0.17927\n",
      "Loss in Trial 30 is 0.14406\n",
      "Loss in Trial 31 is 0.08725\n",
      "Loss in Trial 32 is 0.06780\n",
      "Loss in Trial 33 is 0.12969\n",
      "Loss in Trial 34 is 0.29347\n",
      "Loss in Trial 35 is 0.06320\n",
      "Loss in Trial 36 is 0.04275\n",
      "Loss in Trial 37 is 0.05319\n",
      "Loss in Trial 38 is 0.19063\n",
      "Loss in Trial 39 is 0.18882\n",
      "Loss in Trial 40 is 0.07958\n",
      "Loss in Trial 41 is 0.10850\n",
      "Loss in Trial 42 is 0.11297\n",
      "Loss in Trial 43 is 0.18255\n",
      "Loss in Trial 44 is 0.11546\n",
      "Loss in Trial 45 is 0.07390\n",
      "Loss in Trial 46 is 0.03333\n",
      "Loss in Trial 47 is 0.38535\n",
      "Loss in Trial 48 is 0.06997\n",
      "Loss in Trial 49 is 0.07892\n",
      "Loss in Trial 50 is 0.14193\n",
      "Loss in Trial 51 is 0.07994\n",
      "Loss in Trial 52 is 0.06952\n",
      "Loss in Trial 53 is 0.10900\n",
      "Loss in Trial 54 is 0.09297\n",
      "Loss in Trial 55 is 0.10353\n",
      "Loss in Trial 56 is 0.15564\n",
      "Loss in Trial 57 is 0.10690\n",
      "Loss in Trial 58 is 0.15024\n",
      "Loss in Trial 59 is 0.10538\n",
      "Loss in Trial 60 is 0.05267\n",
      "Loss in Trial 61 is 0.05397\n",
      "Loss in Trial 62 is 0.29171\n",
      "Loss in Trial 63 is 0.01542\n",
      "Loss in Trial 64 is 0.13387\n",
      "Loss in Trial 65 is 0.05894\n",
      "Loss in Trial 66 is 0.02853\n",
      "Loss in Trial 67 is 0.07265\n",
      "Loss in Trial 68 is 0.16341\n",
      "Loss in Trial 69 is 0.18491\n",
      "Loss in Trial 70 is 0.06880\n",
      "Loss in Trial 71 is 0.15995\n",
      "Loss in Trial 72 is 0.04211\n",
      "Loss in Trial 73 is 0.13112\n",
      "Loss in Trial 74 is 0.28417\n",
      "Loss in Trial 75 is 0.06657\n",
      "Loss in Trial 76 is 0.10395\n",
      "Loss in Trial 77 is 0.17352\n",
      "Loss in Trial 78 is 0.08851\n",
      "Loss in Trial 79 is 0.05736\n",
      "Loss in Trial 80 is 0.09944\n"
     ]
    }
   ],
   "source": [
    "# @title build and train the network\n",
    "# create and save RNN encoder\n",
    "reaching_network = RNN(N=N, g=g, p=p, tau=tau, dt=dt, N_in=targets)\n",
    "save_RNN(reaching_network, savedir)\n",
    "\n",
    "# create feedforward decoder from RNN to (x,y) output units\n",
    "reaching_decoder = create_reaching_task_decoder(reaching_network,\n",
    "                                                target_max, n_output_units=N_OUTPUT_UNITS)\n",
    "\n",
    "# create feedback weights from (x,y) output units back to RNN\n",
    "reaching_feedback = get_feedback_weights(reaching_decoder)\n",
    "\n",
    "# train and save the RNN encoder weights (learn the task)\n",
    "reaching_loss = reaching_network.relearn(n_learning1_trials, stimulus,\n",
    "                                         pulse_length, reaching_decoder,\n",
    "                                         reaching_feedback, target, delta=delta)\n",
    "np.save(f'{savedir}W_stabilized_reaching', reaching_network.W)\n",
    "w1_reaching = reaching_network.W.copy()"
   ]
  },
  {
   "cell_type": "code",
   "execution_count": 19,
   "metadata": {
    "executionInfo": {
     "elapsed": 3,
     "status": "aborted",
     "timestamp": 1752541431300,
     "user": {
      "displayName": "Ziyu Wang",
      "userId": "06392504440505027431"
     },
     "user_tz": 240
    },
    "id": "Y5ilnbFk0Owb"
   },
   "outputs": [],
   "source": [
    "# get the RNN's manifold\n",
    "manifold_out = get_manifold(reaching_network, manifold_trials, stimulus, pulse_length)\n",
    "\n",
    "# train the decoder\n",
    "W_bci4, l4 = train_reaching_decoder(manifold_out[\"xi2\"][:, :, :reduced_dim],\n",
    "                                    target[:, pulse_length:, :],\n",
    "                                    manifold_out[\"order\"],\n",
    "                                    n_output_units=N_OUTPUT_UNITS)\n",
    "\n",
    "# transform\n",
    "transformed = transform_reaching(reaching_network, manifold_out,\n",
    "                                 W_bci4, reduced_dim, target, pulse_length, n_output_units=N_OUTPUT_UNITS)"
   ]
  },
  {
   "cell_type": "code",
   "execution_count": null,
   "metadata": {
    "executionInfo": {
     "elapsed": 21,
     "status": "aborted",
     "timestamp": 1752541431326,
     "user": {
      "displayName": "Ziyu Wang",
      "userId": "06392504440505027431"
     },
     "user_tz": 240
    },
    "id": "_DC0U7VDie53"
   },
   "outputs": [],
   "source": [
    "# @title Save run data\n",
    "# format and save data for this run\n",
    "run_data = {\n",
    "    'params':{\n",
    "        'dt':dt,\n",
    "        'T':T,\n",
    "        'time':time,\n",
    "        'tsteps':tsteps,\n",
    "        'pulse_length':pulse_length,\n",
    "        'manifold_trials':manifold_trials,\n",
    "        'target_max':target_max,\n",
    "        'stimulus_type':stimulus_type,\n",
    "        'N':N,\n",
    "        'tau':tau,\n",
    "        'g':g,\n",
    "        'p':p\n",
    "        },\n",
    "    'stimulus':stimulus,\n",
    "    'target':target,\n",
    "    'stabilizing':{\n",
    "        'learning_trials':n_learning1_trials,\n",
    "        'delta':delta,\n",
    "        'decoder':reaching_decoder,\n",
    "        'feedback':reaching_feedback,\n",
    "        'stabilize_loss':reaching_loss\n",
    "        },\n",
    "    'manifold':{\n",
    "        'activity':manifold_out[\"activity\"],\n",
    "        'activity2':manifold_out[\"activity_reshaped\"],\n",
    "        'xi':manifold_out[\"xi\"],\n",
    "        'xi2':manifold_out[\"xi2\"],\n",
    "        'cov':manifold_out[\"cov\"],\n",
    "        'ev':manifold_out[\"ev\"],\n",
    "        'evec':manifold_out[\"evec\"],\n",
    "        'pr':manifold_out[\"pr\"],\n",
    "        'order': manifold_out[\"order\"]\n",
    "        },\n",
    "    'decoding':{\n",
    "        'reduced_dim': reduced_dim,\n",
    "        'weights': W_bci4,\n",
    "        'loss':l4\n",
    "        }\n",
    "        }\n",
    "np.save(f'{savedir}reaching_experiment_results_2', run_data)\n",
    "\n",
    "# save manifold data separately, saves the relearning results under relearning_results_name\n",
    "save_reaching_manifold(run_data, transformed, savedir, relearning_results_name)"
   ]
  },
  {
   "cell_type": "markdown",
   "metadata": {
    "execution": {},
    "id": "5vb9UTLdFrLt"
   },
   "source": [
    "### simulate reaching"
   ]
  },
  {
   "cell_type": "code",
   "execution_count": 61,
   "metadata": {
    "execution": {},
    "id": "I--eLE0_FrLu",
    "outputId": "d2904e53-85f6-4525-b176-b146b60569dc"
   },
   "outputs": [
    {
     "data": {
      "image/png": "[encoded data removed]",
      "text/plain": [
       "<Figure size 1440x960 with 1 Axes>"
      ]
     },
     "metadata": {},
     "output_type": "display_data"
    }
   ],
   "source": [
    "# simulate reaching\n",
    "trajectories = simulate_reaching(savedir, dt, manifold_trials, relearning_results_name)  "
   ]
  },
  {
   "cell_type": "markdown",
   "metadata": {
    "execution": {},
    "id": "4cKxCuKbFrLv"
   },
   "source": [
    "## Create task 2: \"force\"\n",
    "\n",
    "Don't hesitate to use some of the utils functions that have been implemented for this tasks under the \"force\" task section.\n",
    "\n",
    "Can you think of other tasks to test?"
   ]
  }
 ],
 "metadata": {
  "colab": {
   "provenance": []
  },
  "kernel": {
   "display_name": "Python 3",
   "language": "python",
   "name": "python3"
  },
  "kernelspec": {
   "display_name": "motor-rnn",
   "language": "python",
   "name": "python3"
  },
  "language_info": {
   "codemirror_mode": {
    "name": "ipython",
    "version": 3
   },
   "file_extension": ".py",
   "mimetype": "text/x-python",
   "name": "python",
   "nbconvert_exporter": "python",
   "pygments_lexer": "ipython3",
   "version": "3.9.23"
  }
 },
 "nbformat": 4,
 "nbformat_minor": 0
}
